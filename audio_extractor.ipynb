    {
      "cell_type": "code",
      "execution_count": null,
      "metadata": {
        "id": "4MSf1QCB2h9-"
      },
      "outputs": [],
      "source": [
        "# the program will extract audio from a given video file"
      ]
    },
    {
      "cell_type": "code",
      "source": [
        "!pip install moviepy\n",
        "!pip install openai-whisper\n",
        "!pip install googletrans==4.0.0-rc1\n",
        "!pip install gtts\n",
        "\n"
      ],
      "metadata": {
        "colab": {
          "base_uri": "https://localhost:8080/"
        },
        "id": "e6oacEPo2rRf",
        "outputId": "fb52b0bf-a9de-442b-b453-9a1e30573075"
      },
      "execution_count": null,
      "outputs": [
        {
          "output_type": "stream",
          "name": "stdout",
          "text": [
            "Collecting gtts\n",
            "  Downloading gTTS-2.5.1-py3-none-any.whl (29 kB)\n",
            "Requirement already satisfied: requests<3,>=2.27 in /usr/local/lib/python3.10/dist-packages (from gtts) (2.31.0)\n",
            "Requirement already satisfied: click<8.2,>=7.1 in /usr/local/lib/python3.10/dist-packages (from gtts) (8.1.7)\n",
            "Requirement already satisfied: charset-normalizer<4,>=2 in /usr/local/lib/python3.10/dist-packages (from requests<3,>=2.27->gtts) (3.3.2)\n",
            "Requirement already satisfied: idna<4,>=2.5 in /usr/local/lib/python3.10/dist-packages (from requests<3,>=2.27->gtts) (2.10)\n",
            "Requirement already satisfied: urllib3<3,>=1.21.1 in /usr/local/lib/python3.10/dist-packages (from requests<3,>=2.27->gtts) (2.0.7)\n",
            "Requirement already satisfied: certifi>=2017.4.17 in /usr/local/lib/python3.10/dist-packages (from requests<3,>=2.27->gtts) (2024.2.2)\n",
            "Installing collected packages: gtts\n",
            "Successfully installed gtts-2.5.1\n"
          ]
        }
      ]
    },
    {
      "cell_type": "markdown",
      "source": [
        "## Audio extraction"
      ],
      "metadata": {
        "id": "GrxnyWSOALfY"
      }
    },
    {
      "cell_type": "code",
      "source": [
        "from moviepy.editor import VideoFileClip\n",
        "\n",
        "def extract_audio(video_path, output_path):\n",
        "    # Load the video clip\n",
        "    video_clip = VideoFileClip(video_path)\n",
        "\n",
        "    # Extract the audio\n",
        "    audio_clip = video_clip.audio\n",
        "\n",
        "    # Write the audio to a file\n",
        "    audio_clip.write_audiofile(output_path)\n",
        "\n",
        "    # Close the clips\n",
        "    audio_clip.close()\n",
        "    video_clip.close()\n",
        "\n",
        "\n",
        "video_path = \"/content/sample1.mp4\"  # Update with the path to your video file\n",
        "output_path = \"/content/audio.mp3\"  # Update with the desired path for the extracted audio\n",
        "\n",
        "extract_audio(video_path, output_path)\n",
        "\n",
        "print(\"Audio extraction complete!\")\n"
      ],
      "metadata": {
        "colab": {
          "base_uri": "https://localhost:8080/"
        },
        "id": "r5obEuJV2t0k",
        "outputId": "5eb70c2f-aa8f-482e-86b5-0a4bedc54ce8"
      },
      "execution_count": null,
      "outputs": [
        {
          "output_type": "stream",
          "name": "stdout",
          "text": [
            "MoviePy - Writing audio in /content/audio.mp3\n"
          ]
        },
        {
          "output_type": "stream",
          "name": "stderr",
          "text": [
            "                                                                   "
          ]
        },
        {
          "output_type": "stream",
          "name": "stdout",
          "text": [
            "MoviePy - Done.\n",
            "Audio extraction complete!\n"
          ]
        },
        {
          "output_type": "stream",
          "name": "stderr",
          "text": [
            "\r"
          ]
        }
      ]
    },
    {
      "cell_type": "markdown",
      "source": [
        "## Text extraction"
      ],
      "metadata": {
        "id": "HEPu-DtpASM-"
      }
    },
    {
      "cell_type": "code",
      "source": [
        "import whisper\n",
        "\n",
        "def recognize_speech_whisper(audio_path):\n",
        "    # Load the pre-trained Whisper model\n",
        "    model = whisper.load_model(\"base\")\n",
        "\n",
        "    # Transcribe the audio file\n",
        "    result = model.transcribe(audio_path)\n",
        "\n",
        "    # Extract the transcribed text from the result\n",
        "    text = result[\"text\"]\n",
        "\n",
        "    return text\n",
        "\n",
        "\n",
        "audio_path = \"/content/audio.mp3\"\n",
        "transcribed_text = recognize_speech_whisper(audio_path)\n",
        "print(transcribed_text)\n"
      ],
      "metadata": {
        "id": "ik2PMyzR45_E",
        "colab": {
          "base_uri": "https://localhost:8080/"
        },
        "outputId": "d7e1eaaa-422d-479d-c2ff-b57245efd01e"
      },
      "execution_count": null,
      "outputs": [
        {
          "output_type": "stream",
          "name": "stderr",
          "text": [
            "100%|████████████████████████████████████████| 139M/139M [00:01<00:00, 104MiB/s]\n",
            "WARNING:py.warnings:/usr/local/lib/python3.10/dist-packages/whisper/transcribe.py:115: UserWarning: FP16 is not supported on CPU; using FP32 instead\n",
            "  warnings.warn(\"FP16 is not supported on CPU; using FP32 instead\")\n",
            "\n"
          ]
        },
        {
          "output_type": "stream",
          "name": "stdout",
          "text": [
            " So you and I, if we were married, oh no, exactly, okay? If you and I were married, I wouldn't want to give you what you need. That's all I'm talking about, taking care of each other the best you can. What's wrong with taking care of the woman? She takes care of you? We'll have a hard time finding you like that, those days. You think so? I don't know. Lightning could strike.\n"
          ]
        }
      ]
    },
    {
      "cell_type": "markdown",
      "source": [
        "## Translation"
      ],
      "metadata": {
        "id": "k2kBCKVhAbA4"
      }
    },
    {
      "cell_type": "code",
      "source": [
        "from googletrans import Translator\n",
        "\n",
        "def translate_text(text, target_language='es'):\n",
        "    translator = Translator()\n",
        "    translation = translator.translate(text, dest=target_language)\n",
        "    return translation.text\n",
        "\n",
        "def get_target_language():\n",
        "    print(\"Choose the language you want to translate the text into:\")\n",
        "    print(\"1. Spanish\")\n",
        "    print(\"2. French\")\n",
        "    print(\"3. German\")\n",
        "    choice = input(\"Enter your choice (1/2/3): \")\n",
        "    if choice == '1':\n",
        "        return 'es'\n",
        "    elif choice == '2':\n",
        "        return 'fr'\n",
        "    elif choice == '3':\n",
        "        return 'de'\n",
        "    else:\n",
        "        print(\"Invalid choice. Defaulting to Spanish.\")\n",
        "        return 'es'\n",
        "\n",
        "\n",
        "text_to_translate = input(\"Enter the text to translate: \")\n",
        "target_language = get_target_language()\n",
        "translated_text = translate_text(text_to_translate, target_language)\n",
        "print(\"Translated text:\", translated_text)\n"
      ],
      "metadata": {
        "colab": {
          "base_uri": "https://localhost:8080/"
        },
        "id": "iGh7G6rfAJiQ",
        "outputId": "99775c75-bd26-4da1-f489-6aa9fdba5e4b"
      },
      "execution_count": null,
      "outputs": [
        {
          "output_type": "stream",
          "name": "stdout",
          "text": [
            "Enter the text to translate:  So you and I, if we were married, oh no, exactly, okay? If you and I were married, I wouldn't want to give you what you need. That's all I'm talking about, taking care of each other the best you can. What's wrong with taking care of the woman? She takes care of you? We'll have a hard time finding you like that, those days. You think so? I don't know. Lightning could strike.\n",
            "Choose the language you want to translate the text into:\n",
            "1. Spanish\n",
            "2. French\n",
            "3. German\n",
            "Enter your choice (1/2/3): 2\n",
            "Translated text: Alors toi et moi, si nous étions mariés, oh non, exactement, d'accord?Si vous et moi étions mariés, je ne voudrais pas vous donner ce dont vous avez besoin.C'est tout ce dont je parle, en prenant soin les uns des autres du mieux que vous pouvez.Quel est le problème à prendre soin de la femme?Elle prend soin de vous?Nous aurons du mal à vous trouver comme ça, ces jours-là.Tu penses?Je ne sais pas.La foudre pourrait frapper.\n"
          ]
        }
      ]
    },
    {
      "cell_type": "markdown",
      "source": [
        "## Translated text to speech"
      ],
      "metadata": {
        "id": "5k6hITF7BDvG"
      }
    },
    {
      "cell_type": "code",
      "source": [
        "from gtts import gTTS\n",
        "import os\n",
        "\n",
        "def convert_text_to_audio(text_to_convert, language='en', output_filename='output.mp3'):\n",
        "    tts = gTTS(text=text_to_convert, lang=language, slow=False)\n",
        "    tts.save(output_filename)\n",
        "    return output_filename\n",
        "\n",
        "# Example usage\n",
        "text_to_convert = \"Alors toi et moi, si nous étions mariés, oh non, exactement, d'accord?Si vous et moi étions mariés, je ne voudrais pas vous donner ce dont vous avez besoin.C'est tout ce dont je parle, en prenant soin les uns des autres du mieux que vous pouvez.Quel est le problème à prendre soin de la femme?Elle prend soin de vous?Nous aurons du mal à vous trouver comme ça, ces jours-là.Tu penses?Je ne sais pas.La foudre pourrait frapper.\"  # Replace with the text you want to convert to speech\n",
        "language = 'fr'  # Replace with the desired language code (e.g., 'en' for English, 'fr' for French, etc.)\n",
        "output_filename = '/content/output.mp3'  # Output audio file name\n",
        "\n",
        "audio_file = convert_text_to_audio(text_to_convert, language, output_filename)\n",
        "print(\"Audio file saved as:\", audio_file)\n"
      ],
      "metadata": {
        "colab": {
          "base_uri": "https://localhost:8080/"
        },
        "id": "vDpx1XCJBHGv",
        "outputId": "50817fb5-2c2f-46fe-f8b4-594e1f84859a"
      },
      "execution_count": null,
      "outputs": [
        {
          "output_type": "stream",
          "name": "stdout",
          "text": [
            "Audio file saved as: /content/output.mp3\n"
          ]
        }
      ]
    }
